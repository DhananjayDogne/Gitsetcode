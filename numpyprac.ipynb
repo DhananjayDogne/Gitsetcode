{
 "cells": [
  {
   "cell_type": "code",
   "execution_count": 4,
   "id": "35886959",
   "metadata": {},
   "outputs": [
    {
     "name": "stdout",
     "output_type": "stream",
     "text": [
      "[[10]\n",
      " [11]\n",
      " [12]]\n"
     ]
    }
   ],
   "source": [
    "import numpy as np\n",
    "a= np.array([[10],[11],[12]])\n",
    "print(a)"
   ]
  },
  {
   "cell_type": "code",
   "execution_count": 5,
   "id": "bb050fb7",
   "metadata": {},
   "outputs": [
    {
     "name": "stdout",
     "output_type": "stream",
     "text": [
      "<class 'numpy.ndarray'>\n"
     ]
    }
   ],
   "source": [
    "print(type(a))"
   ]
  },
  {
   "cell_type": "code",
   "execution_count": 7,
   "id": "ef5ea5ed",
   "metadata": {},
   "outputs": [
    {
     "name": "stdout",
     "output_type": "stream",
     "text": [
      "(3, 1)\n"
     ]
    }
   ],
   "source": [
    "print(a.shape) #returns tuple ( the shape of the array ), returns the no. of element in each dimension"
   ]
  },
  {
   "cell_type": "code",
   "execution_count": 8,
   "id": "5dc4239d",
   "metadata": {},
   "outputs": [
    {
     "name": "stdout",
     "output_type": "stream",
     "text": [
      "2\n"
     ]
    }
   ],
   "source": [
    "print(a.ndim) #returns dimension of array"
   ]
  },
  {
   "cell_type": "code",
   "execution_count": 9,
   "id": "e4ae6a43",
   "metadata": {},
   "outputs": [
    {
     "name": "stdout",
     "output_type": "stream",
     "text": [
      "[[[10]\n",
      "  [11]\n",
      "  [12]]]\n"
     ]
    }
   ],
   "source": [
    "an= np.array([[[10],[11],[12]]])\n",
    "print(an)"
   ]
  },
  {
   "cell_type": "code",
   "execution_count": 10,
   "id": "a1eda6e5",
   "metadata": {},
   "outputs": [
    {
     "name": "stdout",
     "output_type": "stream",
     "text": [
      "(1, 3, 1)\n",
      "3\n"
     ]
    }
   ],
   "source": [
    "print(an.shape)\n",
    "print(an.ndim)"
   ]
  },
  {
   "cell_type": "code",
   "execution_count": 14,
   "id": "e5bcb700",
   "metadata": {},
   "outputs": [
    {
     "name": "stdout",
     "output_type": "stream",
     "text": [
      "[15  4 11 31]\n",
      "[[15  4]\n",
      " [11 31]]\n"
     ]
    }
   ],
   "source": [
    "VD = np.array([15,4,11,31])\n",
    "print(VD)\n",
    "RD = VD.reshape(2,2) #reshapes the array into another without changing its data\n",
    "print(RD)"
   ]
  },
  {
   "cell_type": "code",
   "execution_count": 18,
   "id": "37874d2a",
   "metadata": {},
   "outputs": [
    {
     "name": "stdout",
     "output_type": "stream",
     "text": [
      "[ 0  1  2  3  4  5  6  7  8  9 10 11]\n"
     ]
    }
   ],
   "source": [
    "v=np.arange(12)\n",
    "print(v)\n"
   ]
  },
  {
   "cell_type": "code",
   "execution_count": 47,
   "id": "89975872",
   "metadata": {},
   "outputs": [
    {
     "name": "stdout",
     "output_type": "stream",
     "text": [
      "1\n"
     ]
    }
   ],
   "source": [
    "print(v.ndim)"
   ]
  },
  {
   "cell_type": "code",
   "execution_count": 28,
   "id": "b4c8fa06",
   "metadata": {},
   "outputs": [
    {
     "name": "stdout",
     "output_type": "stream",
     "text": [
      "[ 0  1  2  3  4  5  6  7  8  9 10 11]\n",
      "[[ 0  1  2  3]\n",
      " [ 4  5  6  7]\n",
      " [ 8  9 10 11]]\n",
      "2\n"
     ]
    }
   ],
   "source": [
    "v=np.arange(12)\n",
    "print(v)\n",
    "\n",
    "b= v.reshape(4,3)   #we can reshape array only if the elements required are equal , as it will give error when elements are not equally distributed\n",
    "print(b)\n",
    "print(b.ndim)"
   ]
  },
  {
   "cell_type": "code",
   "execution_count": 25,
   "id": "e1b83974",
   "metadata": {},
   "outputs": [
    {
     "name": "stdout",
     "output_type": "stream",
     "text": [
      "[[1. 1. 1.]\n",
      " [1. 1. 1.]\n",
      " [1. 1. 1.]]\n",
      "2\n"
     ]
    }
   ],
   "source": [
    "V=np.ones((3,3))    #It creates an array having all ones of shape 3,3\n",
    "print(V)\n",
    "print(V.ndim)"
   ]
  },
  {
   "cell_type": "code",
   "execution_count": 8,
   "id": "4a2314aa",
   "metadata": {},
   "outputs": [
    {
     "name": "stdout",
     "output_type": "stream",
     "text": [
      "[[0. 0. 0.]\n",
      " [0. 0. 0.]\n",
      " [0. 0. 0.]]\n"
     ]
    }
   ],
   "source": [
    "D=np.zeros((3,3))   #It creates an array having all zeros of shape 3,3\n",
    "print(D)"
   ]
  },
  {
   "cell_type": "code",
   "execution_count": 9,
   "id": "c6a028dd",
   "metadata": {},
   "outputs": [
    {
     "name": "stdout",
     "output_type": "stream",
     "text": [
      "[[0.30549126 0.80131215 0.90491048]\n",
      " [0.70955123 0.42579493 0.69615541]\n",
      " [0.19359084 0.79329087 0.09858226]]\n"
     ]
    }
   ],
   "source": [
    "ve = np.random.random((3,3))   #It creates array of random values\n",
    "print(ve)"
   ]
  },
  {
   "cell_type": "code",
   "execution_count": 12,
   "id": "3d21ee1c",
   "metadata": {},
   "outputs": [
    {
     "name": "stdout",
     "output_type": "stream",
     "text": [
      "[[15 15 15]\n",
      " [15 15 15]\n",
      " [15 15 15]\n",
      " [15 15 15]]\n"
     ]
    }
   ],
   "source": [
    "rd=np.full((4,3),15)\n",
    "print(rd)"
   ]
  },
  {
   "cell_type": "code",
   "execution_count": 31,
   "id": "19eb8196",
   "metadata": {},
   "outputs": [
    {
     "name": "stdout",
     "output_type": "stream",
     "text": [
      "[9 8 7 6 5 4]\n",
      "int32\n",
      "[9. 8. 7. 6. 5. 4.]\n",
      "float32\n"
     ]
    }
   ],
   "source": [
    "S=np.array([9,8,7,6,5,4])\n",
    "print(S)\n",
    "print(S.dtype)\n",
    "S=np.array([9,8,7,6,5,4],dtype=np.float32)   #You can explicitly specify which data-type you want \n",
    "print(S)\n",
    "print(S.dtype)"
   ]
  },
  {
   "cell_type": "code",
   "execution_count": 32,
   "id": "e9ab7541",
   "metadata": {},
   "outputs": [
    {
     "data": {
      "text/plain": [
       "dtype('float64')"
      ]
     },
     "execution_count": 32,
     "metadata": {},
     "output_type": "execute_result"
    }
   ],
   "source": [
    "a = np.ones((3, 3))\n",
    "a.dtype"
   ]
  },
  {
   "cell_type": "code",
   "execution_count": 34,
   "id": "b0f0f6d5",
   "metadata": {},
   "outputs": [
    {
     "name": "stdout",
     "output_type": "stream",
     "text": [
      "[[1. 0. 0. 0. 0.]\n",
      " [0. 1. 0. 0. 0.]\n",
      " [0. 0. 1. 0. 0.]\n",
      " [0. 0. 0. 1. 0.]\n",
      " [0. 0. 0. 0. 1.]]\n"
     ]
    },
    {
     "data": {
      "text/plain": [
       "dtype('float64')"
      ]
     },
     "execution_count": 34,
     "metadata": {},
     "output_type": "execute_result"
    }
   ],
   "source": [
    "a=np.eye(5)  #Return a 2-D array with ones on the diagonal and zeros elsewhere.\n",
    "print(a) \n",
    "a.dtype"
   ]
  },
  {
   "cell_type": "code",
   "execution_count": null,
   "id": "40ee2a4d",
   "metadata": {},
   "outputs": [],
   "source": []
  }
 ],
 "metadata": {
  "kernelspec": {
   "display_name": "Python 3 (ipykernel)",
   "language": "python",
   "name": "python3"
  },
  "language_info": {
   "codemirror_mode": {
    "name": "ipython",
    "version": 3
   },
   "file_extension": ".py",
   "mimetype": "text/x-python",
   "name": "python",
   "nbconvert_exporter": "python",
   "pygments_lexer": "ipython3",
   "version": "3.11.4"
  }
 },
 "nbformat": 4,
 "nbformat_minor": 5
}
